{
 "cells": [
  {
   "cell_type": "markdown",
   "metadata": {
    "nbgrader": {
     "grade": false,
     "grade_id": "cell-0dfde00a7c176586",
     "locked": true,
     "schema_version": 3,
     "solution": false,
     "task": false
    }
   },
   "source": [
    "# Final Project\n",
    "\n",
    "This is your final project. It accounts for maximum 20% of the final grade.\n",
    "\n",
    "**Instructions**\n",
    "* You should work on this project either **individually**\n",
    "* This project will be partially **auto-graded** and partially **manually graded**: the auto-grading will check that your answers to the question is correct (or close to be correct) and the manual grading will check your python coding and visualization style. **If your submission fails the auto-grade, you will get 0.** \n",
    "\n",
    "**Note**\n",
    "* Write your code after you see `# YOUR CODE HERE` \n",
    "* Read the instruction of each question. You have a **limited time to submit: Date Time**. Only your last submission counts.\n",
    "* Copying the solution of other student is forbidden.\n",
    "* For each example, the symbol `->` indicates the value the function should return.\n",
    "* After the deadline, submission is only possible by email attachment (.ipynb file) to your TA and cc your instructor. Late submission will be penalized (up to 100%, if late > 72 hours)."
   ]
  },
  {
   "cell_type": "markdown",
   "metadata": {
    "nbgrader": {
     "grade": false,
     "grade_id": "cell-6e21e3e162115c90",
     "locked": true,
     "schema_version": 3,
     "solution": false,
     "task": false
    }
   },
   "source": [
    "**Project Description**\n",
    "\n",
    "This data set `CardioGoodFitness.csv` is for customers of the treadmill product(s) of a retail store called Cardio Good Fitness. It contains the following variables `Product`, `Age`, `Gender`, `Education`, `MaritalStatus`, `Usage`, `Fitness`, `Income`, and `Miles`. \n",
    "\n",
    "* `Product`: the model of the treadmill\n",
    "\n",
    "* `Age`: in number of years, of the customer\n",
    "\n",
    "* `Gender`: of the customer\n",
    "\n",
    "* `Education`: in number of years, of the customer\n",
    "\n",
    "* `MaritalStatus`: of the customer\n",
    "\n",
    "* `Usage`: average number of times the customer wants to use the treadmill per week\n",
    "\n",
    "* `Fitness`: self rated fitness score of the customer (5 - very fit, 1 - very unfit)\n",
    "\n",
    "* `Income`: of the customer\n",
    "\n",
    "* `Miles`: expected to run\n",
    "\n",
    "\n",
    "\n",
    "To understand products, your project focuses on the following two parts:\n",
    "1. Process and analyze the data \n",
    "2. Create visualizations\n",
    "\n",
    "\n",
    "\n",
    "**Guidelines**\n",
    "* You will read instructions and hints carefully and apply your best judgement to answer the questions.\n",
    "* For each question, you need to write Python codes to answer and you need to assign the value to a variable.\n",
    "* For Part 1, you need to store your answers in the `answers` dictionary with keys \"1\", \"2\", \"3\", ... \"10\" and corresponding values (the answer to each question)."
   ]
  },
  {
   "cell_type": "code",
   "execution_count": 2,
   "metadata": {
    "ExecuteTime": {
     "end_time": "2024-12-01T14:26:36.057260Z",
     "start_time": "2024-12-01T14:26:36.054615Z"
    },
    "nbgrader": {
     "grade": false,
     "grade_id": "cell-13828650a2cce585",
     "locked": true,
     "schema_version": 3,
     "solution": false,
     "task": false
    }
   },
   "outputs": [],
   "source": [
    "# You will need to import these two packages.\n",
    "import pandas as pd\n",
    "import matplotlib.pyplot as plt\n",
    "import numpy as np\n",
    "import random\n",
    "from sklearn.tree import DecisionTreeClassifier, plot_tree\n",
    "from sklearn.preprocessing import LabelEncoder\n",
    "from IPython.display import display\n",
    "import seaborn as sns"
   ]
  },
  {
   "cell_type": "code",
   "execution_count": 3,
   "metadata": {
    "ExecuteTime": {
     "end_time": "2024-12-01T13:16:22.374280Z",
     "start_time": "2024-12-01T13:16:22.359213Z"
    },
    "nbgrader": {
     "grade": false,
     "grade_id": "cell-b62dfc2d227b23cb",
     "locked": true,
     "schema_version": 3,
     "solution": false,
     "task": false
    }
   },
   "outputs": [
    {
     "name": "stdout",
     "output_type": "stream",
     "text": [
      "Dataset with 200 records has been successfully created and saved as 'CardioGoodFitness.csv'!\n"
     ]
    },
    {
     "data": {
      "text/html": [
       "<div>\n",
       "<style scoped>\n",
       "    .dataframe tbody tr th:only-of-type {\n",
       "        vertical-align: middle;\n",
       "    }\n",
       "\n",
       "    .dataframe tbody tr th {\n",
       "        vertical-align: top;\n",
       "    }\n",
       "\n",
       "    .dataframe thead th {\n",
       "        text-align: right;\n",
       "    }\n",
       "</style>\n",
       "<table border=\"1\" class=\"dataframe\">\n",
       "  <thead>\n",
       "    <tr style=\"text-align: right;\">\n",
       "      <th></th>\n",
       "      <th>Product</th>\n",
       "      <th>Age</th>\n",
       "      <th>Gender</th>\n",
       "      <th>Education</th>\n",
       "      <th>MaritalStatus</th>\n",
       "      <th>Usage</th>\n",
       "      <th>Fitness</th>\n",
       "      <th>Income</th>\n",
       "      <th>Miles</th>\n",
       "    </tr>\n",
       "  </thead>\n",
       "  <tbody>\n",
       "    <tr>\n",
       "      <th>0</th>\n",
       "      <td>ModelC</td>\n",
       "      <td>18</td>\n",
       "      <td>Female</td>\n",
       "      <td>13</td>\n",
       "      <td>Partnered</td>\n",
       "      <td>6</td>\n",
       "      <td>1</td>\n",
       "      <td>46365</td>\n",
       "      <td>129</td>\n",
       "    </tr>\n",
       "    <tr>\n",
       "      <th>1</th>\n",
       "      <td>ModelB</td>\n",
       "      <td>41</td>\n",
       "      <td>Female</td>\n",
       "      <td>18</td>\n",
       "      <td>Partnered</td>\n",
       "      <td>2</td>\n",
       "      <td>2</td>\n",
       "      <td>87101</td>\n",
       "      <td>273</td>\n",
       "    </tr>\n",
       "    <tr>\n",
       "      <th>2</th>\n",
       "      <td>ModelA</td>\n",
       "      <td>32</td>\n",
       "      <td>Male</td>\n",
       "      <td>12</td>\n",
       "      <td>Single</td>\n",
       "      <td>6</td>\n",
       "      <td>2</td>\n",
       "      <td>67638</td>\n",
       "      <td>77</td>\n",
       "    </tr>\n",
       "    <tr>\n",
       "      <th>3</th>\n",
       "      <td>ModelC</td>\n",
       "      <td>61</td>\n",
       "      <td>Female</td>\n",
       "      <td>13</td>\n",
       "      <td>Partnered</td>\n",
       "      <td>2</td>\n",
       "      <td>3</td>\n",
       "      <td>30614</td>\n",
       "      <td>144</td>\n",
       "    </tr>\n",
       "    <tr>\n",
       "      <th>4</th>\n",
       "      <td>ModelA</td>\n",
       "      <td>19</td>\n",
       "      <td>Female</td>\n",
       "      <td>13</td>\n",
       "      <td>Single</td>\n",
       "      <td>3</td>\n",
       "      <td>4</td>\n",
       "      <td>91977</td>\n",
       "      <td>122</td>\n",
       "    </tr>\n",
       "  </tbody>\n",
       "</table>\n",
       "</div>"
      ],
      "text/plain": [
       "  Product  Age  Gender  Education MaritalStatus  Usage  Fitness  Income  Miles\n",
       "0  ModelC   18  Female         13     Partnered      6        1   46365    129\n",
       "1  ModelB   41  Female         18     Partnered      2        2   87101    273\n",
       "2  ModelA   32    Male         12        Single      6        2   67638     77\n",
       "3  ModelC   61  Female         13     Partnered      2        3   30614    144\n",
       "4  ModelA   19  Female         13        Single      3        4   91977    122"
      ]
     },
     "execution_count": 3,
     "metadata": {},
     "output_type": "execute_result"
    }
   ],
   "source": [
    "np.random.seed(42)\n",
    "\n",
    "# Function to generate random data\n",
    "def generate_dataset(num_records=200):\n",
    "    # Define possible values for each column\n",
    "    products = [\"ModelA\", \"ModelB\", \"ModelC\"]  # Different treadmill models\n",
    "    genders = [\"Male\", \"Female\"]\n",
    "    marital_statuses = [\"Single\", \"Partnered\"]\n",
    "    \n",
    "    # Generate random data\n",
    "    data = {\n",
    "        \"Product\": [random.choice(products) for _ in range(num_records)],  # Randomly pick a product\n",
    "        \"Age\": [random.randint(18, 65) for _ in range(num_records)],  # Random age between 18 and 65\n",
    "        \"Gender\": [random.choice(genders) for _ in range(num_records)],  # Randomly pick a gender\n",
    "        \"Education\": [random.randint(12, 20) for _ in range(num_records)],  # Years of education (12 to 20)\n",
    "        \"MaritalStatus\": [random.choice(marital_statuses) for _ in range(num_records)],  # Single or Partnered\n",
    "        \"Usage\": [random.randint(1, 7) for _ in range(num_records)],  # Random treadmill usage (1 to 7 times a week)\n",
    "        \"Fitness\": [random.randint(1, 5) for _ in range(num_records)],  # Fitness score (1 to 5)\n",
    "        \"Income\": [random.randint(30000, 120000) for _ in range(num_records)],  # Income in dollars\n",
    "        \"Miles\": [random.randint(50, 300) for _ in range(num_records)],  # Miles expected to run\n",
    "    }\n",
    "    \n",
    "    # Convert to a DataFrame\n",
    "    df = pd.DataFrame(data)\n",
    "    return df\n",
    "\n",
    "# Generate the dataset\n",
    "num_records = 200  # Specify the number of records you want in the dataset\n",
    "df = generate_dataset(num_records)\n",
    "\n",
    "# Save the dataset to a CSV file\n",
    "df.to_csv(\"CardioGoodFitness.csv\", index=False)\n",
    "\n",
    "print(f\"Dataset with {num_records} records has been successfully created and saved as 'CardioGoodFitness.csv'!\")\n",
    "data = pd.read_csv(\"CardioGoodFitness.csv\")\n",
    "data.head()"
   ]
  },
  {
   "cell_type": "markdown",
   "metadata": {},
   "source": []
  },
  {
   "cell_type": "markdown",
   "metadata": {
    "nbgrader": {
     "grade": false,
     "grade_id": "cell-923a77bedc4dc3dd",
     "locked": true,
     "schema_version": 3,
     "solution": false,
     "task": false
    }
   },
   "source": [
    "## Questions (50 points)\n",
    "\n",
    "Run preliminary data analysis on the dataset to answer the following questions:\n",
    "\n",
    "1.What is the average income of customers in the dataset?\n",
    "\n",
    "2.Which gender has a higher median fitness level?\n",
    "\n",
    "3.What is the standard deviation of treadmill usage per week among customers?\n",
    "\n",
    "4.What is the average age of customers for each product type?\n",
    "\n",
    "5.What is the range (maximum - minimum) of miles expected to run by customers?\n",
    "\n",
    "6.How many customers use the treadmill 5 or more times per week?\n",
    "\n",
    "7.What percentage of Male customers have an income greater than $75,000?\n",
    "\n",
    "8.What percentage of customers are older than 50 years (in float, e.g., 0.15)?\n",
    "\n",
    "9.What is the minimum number of miles expected to be run by a Female customer?\n",
    "\n",
    "10.What is the most common income bracket (e.g., ‘$0-$30,000', '$30,001-$50,000', '$50,001-$70,000', '$70,001-$90,000', '$90,001-$110,000', '$110,000+') in the dataset?\n",
    "\n",
    "(optional)11.What conditions do these characteristics need to meet in order to get a customer to buy a model C?\n",
    "\n",
    "(optional)12.Based on the rules you have summarized, generate a function that predicts the type of product customers will buy.\n",
    "\n",
    "\n",
    "Write all your answers in a dictionary named `answers`. This dictionary has keys `\"1\", \"2\", \"3\", ... \"10\"` and values `a1, a2, a3, ... a10` respectively. (e.g., a1 is the variable storing the answer to question 1)"
   ]
  },
  {
   "cell_type": "code",
   "execution_count": 37,
   "metadata": {
    "ExecuteTime": {
     "end_time": "2024-12-01T13:31:13.739543Z",
     "start_time": "2024-12-01T13:31:13.733788Z"
    },
    "nbgrader": {
     "grade": false,
     "grade_id": "cell-73867e4d85b27570",
     "locked": false,
     "schema_version": 3,
     "solution": true,
     "task": false
    }
   },
   "outputs": [
    {
     "name": "stdout",
     "output_type": "stream",
     "text": [
      "Average Income: 70613.01\n"
     ]
    }
   ],
   "source": [
    "# 1.What is the average income of customers in the dataset?\n",
    "\n",
    "### BEGIN SOLUTION\n",
    "average_income = data['Income'].mean()\n",
    "a1 = average_income\n",
    "print(\"Average Income:\", a1)\n",
    "### END SOLUTION"
   ]
  },
  {
   "cell_type": "code",
   "execution_count": 38,
   "metadata": {
    "ExecuteTime": {
     "end_time": "2024-12-01T14:17:20.925429Z",
     "start_time": "2024-12-01T14:17:20.921725Z"
    }
   },
   "outputs": [
    {
     "name": "stdout",
     "output_type": "stream",
     "text": [
      "Median Fitness by Gender: Gender\n",
      "Female    3.0\n",
      "Male      3.0\n",
      "Name: Fitness, dtype: float64\n"
     ]
    }
   ],
   "source": [
    "# 2.Which gender has a higher median fitness level?\n",
    "\n",
    "### BEGIN SOLUTION\n",
    "median_fitness_by_gender = data.groupby('Gender')['Fitness'].median()\n",
    "a2 = median_fitness_by_gender\n",
    "print(\"Median Fitness by Gender:\", a2)\n",
    "### END SOLUTION"
   ]
  },
  {
   "cell_type": "code",
   "execution_count": 41,
   "metadata": {
    "ExecuteTime": {
     "end_time": "2024-12-01T14:17:21.531757Z",
     "start_time": "2024-12-01T14:17:21.529711Z"
    },
    "nbgrader": {
     "grade": false,
     "grade_id": "cell-4a32a7e382aa7d5f",
     "locked": false,
     "schema_version": 3,
     "solution": true,
     "task": false
    }
   },
   "outputs": [
    {
     "name": "stdout",
     "output_type": "stream",
     "text": [
      "Standard Deviation of Usage: 1.9664267519677079\n"
     ]
    }
   ],
   "source": [
    "# 3.What is the standard deviation of treadmill usage per week among customers?\n",
    "\n",
    "### BEGIN SOLUTION\n",
    "std_usage = data['Usage'].std()\n",
    "a3 = std_usage\n",
    "print(\"Standard Deviation of Usage:\", a3)\n",
    "### END SOLUTION"
   ]
  },
  {
   "cell_type": "code",
   "execution_count": 42,
   "metadata": {
    "ExecuteTime": {
     "end_time": "2024-12-01T14:17:21.907292Z",
     "start_time": "2024-12-01T14:17:21.903885Z"
    }
   },
   "outputs": [
    {
     "name": "stdout",
     "output_type": "stream",
     "text": [
      "Average Age by Product: Product\n",
      "ModelA    42.921875\n",
      "ModelB    42.144737\n",
      "ModelC    41.033333\n",
      "Name: Age, dtype: float64\n"
     ]
    }
   ],
   "source": [
    "# 4.What is the average age of customers for each product type?\n",
    "### BEGIN SOLUTION\n",
    "average_age_by_product = data.groupby('Product')['Age'].mean()\n",
    "a4 = average_age_by_product\n",
    "print(\"Average Age by Product:\", a4)\n",
    "### END SOLUTION"
   ]
  },
  {
   "cell_type": "code",
   "execution_count": 43,
   "metadata": {
    "ExecuteTime": {
     "end_time": "2024-12-01T14:17:22.225510Z",
     "start_time": "2024-12-01T14:17:22.223039Z"
    },
    "nbgrader": {
     "grade": false,
     "grade_id": "cell-ecdea45824738ae1",
     "locked": false,
     "schema_version": 3,
     "solution": true,
     "task": false
    }
   },
   "outputs": [
    {
     "name": "stdout",
     "output_type": "stream",
     "text": [
      "Miles Range: 248\n"
     ]
    }
   ],
   "source": [
    "# 5.What is the range (maximum - minimum) of miles expected to run by customers?\n",
    "\n",
    "### BEGIN SOLUTION\n",
    "miles_range = data['Miles'].max() - data['Miles'].min()\n",
    "a5 = miles_range\n",
    "print(\"Miles Range:\", a5)\n",
    "### END SOLUTION"
   ]
  },
  {
   "cell_type": "code",
   "execution_count": 8,
   "metadata": {
    "ExecuteTime": {
     "end_time": "2024-12-01T14:17:22.534123Z",
     "start_time": "2024-12-01T14:17:22.530686Z"
    }
   },
   "outputs": [
    {
     "name": "stdout",
     "output_type": "stream",
     "text": [
      "Customers Usage 5+ Times/Week: 80\n"
     ]
    }
   ],
   "source": [
    "# 6.How many customers use the treadmill 5 or more times per week?\n",
    "\n",
    "### BEGIN SOLUTION\n",
    "customers_usage_5_or_more = data[data['Usage'] >= 5].shape[0]\n",
    "a6 = customers_usage_5_or_more\n",
    "print(\"Customers Usage 5+ Times/Week:\", a6)\n",
    "### END SOLUTION"
   ]
  },
  {
   "cell_type": "code",
   "execution_count": 9,
   "metadata": {
    "ExecuteTime": {
     "end_time": "2024-12-01T14:17:22.813622Z",
     "start_time": "2024-12-01T14:17:22.810004Z"
    }
   },
   "outputs": [
    {
     "name": "stdout",
     "output_type": "stream",
     "text": [
      "Percentage of Male with Income > $75,000: 0.5056179775280899\n"
     ]
    }
   ],
   "source": [
    "# 7.What percentage of Male customers have an income greater than $75,000?\n",
    "\n",
    "### BEGIN SOLUTION\n",
    "male_high_income_percentage = (\n",
    "    data[(data['Gender'] == 'Male') & (data['Income'] > 75000)].shape[0] / \n",
    "    data[data['Gender'] == 'Male'].shape[0]\n",
    ")\n",
    "a7 = male_high_income_percentage\n",
    "print(\"Percentage of Male with Income > $75,000:\", a7)\n",
    "### END SOLUTION"
   ]
  },
  {
   "cell_type": "code",
   "execution_count": 10,
   "metadata": {
    "ExecuteTime": {
     "end_time": "2024-12-01T14:33:14.049742Z",
     "start_time": "2024-12-01T14:33:14.044136Z"
    }
   },
   "outputs": [
    {
     "name": "stdout",
     "output_type": "stream",
     "text": [
      "Percentage of Customers Older than 50: 0.345\n"
     ]
    }
   ],
   "source": [
    "# 8.What percentage of customers are older than 50 years (in float, e.g., 0.15)?\n",
    "\n",
    "### BEGIN SOLUTION\n",
    "### BEGIN SOLUTION\n",
    "\n",
    "# 检查数据集是否为空\n",
    "if data.shape[0] > 0:\n",
    "    # 计算年龄大于50岁的顾客占比\n",
    "    older_than_50_percentage = data[data['Age'] > 50].shape[0] / data.shape[0]\n",
    "    # 格式化输出百分比，保留两位小数\n",
    "    print(f\"Percentage of Customers Older than 50: {older_than_50_percentage*100:.2f}%\")\n",
    "else:\n",
    "    # 如果数据集为空，输出提示信息\n",
    "    print(\"No data available.\")\n",
    "\n",
    "### END SOLUTION\n",
    "### END SOLUTION"
   ]
  },
  {
   "cell_type": "code",
   "execution_count": 4,
   "metadata": {
    "ExecuteTime": {
     "end_time": "2024-12-01T14:57:28.396413Z",
     "start_time": "2024-12-01T14:57:28.393201Z"
    }
   },
   "outputs": [
    {
     "name": "stdout",
     "output_type": "stream",
     "text": [
      "The minimum number of miles expected to be run by a Female customer is: 50\n"
     ]
    }
   ],
   "source": [
    "# 9.What is the minimum number of miles expected to be run by a Female customer?\n",
    "\n",
    "### BEGIN SOLUTION\n",
    "female_data = data[data['Gender'] == 'Female']\n",
    "min_miles_female = female_data['Miles'].min()\n",
    "a9 = min_miles_female\n",
    "print(f\"The minimum number of miles expected to be run by a Female customer is:\", a9)\n",
    "### END SOLUTION"
   ]
  },
  {
   "cell_type": "code",
   "execution_count": 5,
   "metadata": {
    "ExecuteTime": {
     "end_time": "2024-12-01T14:49:53.272992Z",
     "start_time": "2024-12-01T14:49:53.268701Z"
    }
   },
   "outputs": [
    {
     "name": "stdout",
     "output_type": "stream",
     "text": [
      "The most common income bracket is: $50,001-$70,000 with 48 occurrences.\n"
     ]
    }
   ],
   "source": [
    "# 10.What is the most common income bracket (e.g., ‘$0-$30,000', '$30,001-$50,000', '$50,001-$70,000', '$70,001-$90,000', '$90,001-$110,000', '$110,000+') in the dataset?\n",
    "\n",
    "### BEGIN SOLUTION\n",
    "income_brackets = [0, 30000, 50000, 70000, 90000, 110000, float('inf')]\n",
    "income_bracket_labels = ['$0-$30,000', '$30,001-$50,000', '$50,001-$70,000', '$70,001-$90,000', '$90,001-$110,000', '$110,000+']\n",
    "data['IncomeBracket'] = pd.cut(data['Income'], bins=income_brackets, labels=income_bracket_labels, right=False)\n",
    "income_frequency = data['IncomeBracket'].value_counts()\n",
    "most_common_bracket = income_frequency.idxmax()\n",
    "most_common_count = income_frequency.max()\n",
    "a10 = most_common_bracket\n",
    "print(f\"The most common income bracket is: {most_common_bracket} with {most_common_count} occurrences.\")\n",
    "### END SOLUTION"
   ]
  },
  {
   "cell_type": "code",
   "execution_count": 2,
   "metadata": {},
   "outputs": [
    {
     "ename": "InvalidParameterError",
     "evalue": "The 'feature_names' parameter of plot_tree must be an instance of 'list' or None. Got Index(['Age', 'Education', 'Usage', 'Fitness', 'Income', 'Miles',\n       'Gender_Female', 'Gender_Male', 'MaritalStatus_Partnered',\n       'MaritalStatus_Single'],\n      dtype='object') instead.",
     "output_type": "error",
     "traceback": [
      "\u001b[0;31m---------------------------------------------------------------------------\u001b[0m",
      "\u001b[0;31mInvalidParameterError\u001b[0m                     Traceback (most recent call last)",
      "Cell \u001b[0;32mIn[2], line 33\u001b[0m\n\u001b[1;32m     30\u001b[0m     plt\u001b[38;5;241m.\u001b[39mshow()\n\u001b[1;32m     32\u001b[0m \u001b[38;5;66;03m# 绘制决策树\u001b[39;00m\n\u001b[0;32m---> 33\u001b[0m plot_decision_tree(clf, X_train\u001b[38;5;241m.\u001b[39mcolumns, le\u001b[38;5;241m.\u001b[39mclasses_)\n\u001b[1;32m     35\u001b[0m \u001b[38;5;66;03m# 2. 生成特征汇总图（根据手动整理的规则）\u001b[39;00m\n\u001b[1;32m     36\u001b[0m \u001b[38;5;28;01mimport\u001b[39;00m \u001b[38;5;21;01mpandas\u001b[39;00m \u001b[38;5;28;01mas\u001b[39;00m \u001b[38;5;21;01mpd\u001b[39;00m\n",
      "Cell \u001b[0;32mIn[2], line 29\u001b[0m, in \u001b[0;36mplot_decision_tree\u001b[0;34m(clf, feature_names, class_names)\u001b[0m\n\u001b[1;32m     27\u001b[0m \u001b[38;5;28;01mdef\u001b[39;00m \u001b[38;5;21mplot_decision_tree\u001b[39m(clf, feature_names, class_names):\n\u001b[1;32m     28\u001b[0m     plt\u001b[38;5;241m.\u001b[39mfigure(figsize\u001b[38;5;241m=\u001b[39m(\u001b[38;5;241m12\u001b[39m, \u001b[38;5;241m8\u001b[39m))\n\u001b[0;32m---> 29\u001b[0m     plot_tree(clf, feature_names\u001b[38;5;241m=\u001b[39mfeature_names, class_names\u001b[38;5;241m=\u001b[39mclass_names, filled\u001b[38;5;241m=\u001b[39m\u001b[38;5;28;01mTrue\u001b[39;00m, rounded\u001b[38;5;241m=\u001b[39m\u001b[38;5;28;01mTrue\u001b[39;00m)\n\u001b[1;32m     30\u001b[0m     plt\u001b[38;5;241m.\u001b[39mshow()\n",
      "File \u001b[0;32m~/anaconda3/lib/python3.11/site-packages/sklearn/utils/_param_validation.py:201\u001b[0m, in \u001b[0;36mvalidate_params.<locals>.decorator.<locals>.wrapper\u001b[0;34m(*args, **kwargs)\u001b[0m\n\u001b[1;32m    198\u001b[0m to_ignore \u001b[38;5;241m+\u001b[39m\u001b[38;5;241m=\u001b[39m [\u001b[38;5;124m\"\u001b[39m\u001b[38;5;124mself\u001b[39m\u001b[38;5;124m\"\u001b[39m, \u001b[38;5;124m\"\u001b[39m\u001b[38;5;124mcls\u001b[39m\u001b[38;5;124m\"\u001b[39m]\n\u001b[1;32m    199\u001b[0m params \u001b[38;5;241m=\u001b[39m {k: v \u001b[38;5;28;01mfor\u001b[39;00m k, v \u001b[38;5;129;01min\u001b[39;00m params\u001b[38;5;241m.\u001b[39marguments\u001b[38;5;241m.\u001b[39mitems() \u001b[38;5;28;01mif\u001b[39;00m k \u001b[38;5;129;01mnot\u001b[39;00m \u001b[38;5;129;01min\u001b[39;00m to_ignore}\n\u001b[0;32m--> 201\u001b[0m validate_parameter_constraints(\n\u001b[1;32m    202\u001b[0m     parameter_constraints, params, caller_name\u001b[38;5;241m=\u001b[39mfunc\u001b[38;5;241m.\u001b[39m\u001b[38;5;18m__qualname__\u001b[39m\n\u001b[1;32m    203\u001b[0m )\n\u001b[1;32m    205\u001b[0m \u001b[38;5;28;01mtry\u001b[39;00m:\n\u001b[1;32m    206\u001b[0m     \u001b[38;5;28;01mwith\u001b[39;00m config_context(\n\u001b[1;32m    207\u001b[0m         skip_parameter_validation\u001b[38;5;241m=\u001b[39m(\n\u001b[1;32m    208\u001b[0m             prefer_skip_nested_validation \u001b[38;5;129;01mor\u001b[39;00m global_skip_validation\n\u001b[1;32m    209\u001b[0m         )\n\u001b[1;32m    210\u001b[0m     ):\n",
      "File \u001b[0;32m~/anaconda3/lib/python3.11/site-packages/sklearn/utils/_param_validation.py:95\u001b[0m, in \u001b[0;36mvalidate_parameter_constraints\u001b[0;34m(parameter_constraints, params, caller_name)\u001b[0m\n\u001b[1;32m     89\u001b[0m \u001b[38;5;28;01melse\u001b[39;00m:\n\u001b[1;32m     90\u001b[0m     constraints_str \u001b[38;5;241m=\u001b[39m (\n\u001b[1;32m     91\u001b[0m         \u001b[38;5;124mf\u001b[39m\u001b[38;5;124m\"\u001b[39m\u001b[38;5;132;01m{\u001b[39;00m\u001b[38;5;124m'\u001b[39m\u001b[38;5;124m, \u001b[39m\u001b[38;5;124m'\u001b[39m\u001b[38;5;241m.\u001b[39mjoin([\u001b[38;5;28mstr\u001b[39m(c)\u001b[38;5;250m \u001b[39m\u001b[38;5;28;01mfor\u001b[39;00m\u001b[38;5;250m \u001b[39mc\u001b[38;5;250m \u001b[39m\u001b[38;5;129;01min\u001b[39;00m\u001b[38;5;250m \u001b[39mconstraints[:\u001b[38;5;241m-\u001b[39m\u001b[38;5;241m1\u001b[39m]])\u001b[38;5;132;01m}\u001b[39;00m\u001b[38;5;124m or\u001b[39m\u001b[38;5;124m\"\u001b[39m\n\u001b[1;32m     92\u001b[0m         \u001b[38;5;124mf\u001b[39m\u001b[38;5;124m\"\u001b[39m\u001b[38;5;124m \u001b[39m\u001b[38;5;132;01m{\u001b[39;00mconstraints[\u001b[38;5;241m-\u001b[39m\u001b[38;5;241m1\u001b[39m]\u001b[38;5;132;01m}\u001b[39;00m\u001b[38;5;124m\"\u001b[39m\n\u001b[1;32m     93\u001b[0m     )\n\u001b[0;32m---> 95\u001b[0m \u001b[38;5;28;01mraise\u001b[39;00m InvalidParameterError(\n\u001b[1;32m     96\u001b[0m     \u001b[38;5;124mf\u001b[39m\u001b[38;5;124m\"\u001b[39m\u001b[38;5;124mThe \u001b[39m\u001b[38;5;132;01m{\u001b[39;00mparam_name\u001b[38;5;132;01m!r}\u001b[39;00m\u001b[38;5;124m parameter of \u001b[39m\u001b[38;5;132;01m{\u001b[39;00mcaller_name\u001b[38;5;132;01m}\u001b[39;00m\u001b[38;5;124m must be\u001b[39m\u001b[38;5;124m\"\u001b[39m\n\u001b[1;32m     97\u001b[0m     \u001b[38;5;124mf\u001b[39m\u001b[38;5;124m\"\u001b[39m\u001b[38;5;124m \u001b[39m\u001b[38;5;132;01m{\u001b[39;00mconstraints_str\u001b[38;5;132;01m}\u001b[39;00m\u001b[38;5;124m. Got \u001b[39m\u001b[38;5;132;01m{\u001b[39;00mparam_val\u001b[38;5;132;01m!r}\u001b[39;00m\u001b[38;5;124m instead.\u001b[39m\u001b[38;5;124m\"\u001b[39m\n\u001b[1;32m     98\u001b[0m )\n",
      "\u001b[0;31mInvalidParameterError\u001b[0m: The 'feature_names' parameter of plot_tree must be an instance of 'list' or None. Got Index(['Age', 'Education', 'Usage', 'Fitness', 'Income', 'Miles',\n       'Gender_Female', 'Gender_Male', 'MaritalStatus_Partnered',\n       'MaritalStatus_Single'],\n      dtype='object') instead."
     ]
    },
    {
     "data": {
      "text/plain": [
       "<Figure size 1200x800 with 0 Axes>"
      ]
     },
     "metadata": {},
     "output_type": "display_data"
    }
   ],
   "source": [
    "import pandas as pd\n",
    "from sklearn.tree import DecisionTreeClassifier, plot_tree\n",
    "from sklearn.preprocessing import LabelEncoder\n",
    "import matplotlib.pyplot as plt\n",
    "from IPython.display import display\n",
    "\n",
    "# 加载训练数据集\n",
    "data_train = pd.read_csv(\"CardioGoodFitness.csv\")\n",
    "\n",
    "# 数据预处理（假设 'Product' 是目标变量）\n",
    "X_train = data_train.drop(\"Product\", axis=1)  # 删除目标列，剩下的是特征\n",
    "y_train = data_train[\"Product\"]  # 目标列\n",
    "\n",
    "# 检查特征是否是数值型，若非数值型则进行独热编码\n",
    "if not all([pd.api.types.is_numeric_dtype(X_train[col]) for col in X_train.columns]):\n",
    "    X_train = pd.get_dummies(X_train)\n",
    "\n",
    "# 编码目标变量\n",
    "le = LabelEncoder()\n",
    "y_train = le.fit_transform(y_train)  # 将目标变量转换为数值\n",
    "\n",
    "# 创建并训练决策树模型\n",
    "clf = DecisionTreeClassifier(max_depth=3, random_state=42)\n",
    "clf.fit(X_train, y_train)\n",
    "\n",
    "# 1. 生成决策树图\n",
    "def plot_decision_tree(clf, feature_names, class_names):\n",
    "    plt.figure(figsize=(12, 8))\n",
    "    plot_tree(clf, feature_names=feature_names, class_names=class_names, filled=True, rounded=True)\n",
    "    plt.show()\n",
    "\n",
    "# 绘制决策树\n",
    "plot_decision_tree(clf, X_train.columns, le.classes_)\n",
    "\n",
    "# 2. 生成特征汇总图（根据手动整理的规则）\n",
    "import pandas as pd\n",
    "\n",
    "# 提供的规则数据\n",
    "rules_data = [\n",
    "    {\"Model\": \"ModelA\", \"Conditions\": \"Income <= 119479.5 AND MaritalStatus_Partnered > 0.5 AND Fitness < 4.5\"},\n",
    "    {\"Model\": \"ModelA\", \"Conditions\": \"Income <= 119479.5 AND MaritalStatus_Partnered <= 0.5 AND Miles > 209.0\"},\n",
    "    {\"Model\": \"ModelA\", \"Conditions\": \"Income > 119479.5\"},\n",
    "    {\"Model\": \"ModelB\", \"Conditions\": \"Income <= 119479.5 AND MaritalStatus_Partnered <= 0.5 AND Miles <= 209.0\"},\n",
    "    {\"Model\": \"ModelB\", \"Conditions\": \"Income <= 119479.5 AND Fitness <= 4.5\"},\n",
    "    {\"Model\": \"ModelC\", \"Conditions\": \"Income <= 119479.5 AND MaritalStatus_Partnered <= 0.5\"}\n",
    "]\n",
    "\n",
    "# 转化为 DataFrame\n",
    "rules_df = pd.DataFrame(rules_data)\n",
    "\n",
    "# 设置显示选项以避免换行\n",
    "pd.set_option('display.colheader_justify', 'center')  # 标题居中\n",
    "pd.set_option('display.width', 1000)                 # 增加显示宽度\n",
    "pd.set_option('display.max_colwidth', None)          # 确保列内容完整显示\n",
    "\n",
    "# 显示规则图和表格\n",
    "display(rules_df)\n",
    "feature_summary=rules_df.to_string(index=False)\n",
    "print(feature_summary)\n",
    "\n",
    "# 3. 预测模型函数\n",
    "def predict_model(input_data):\n",
    "    # 检查输入数据是否为DataFrame\n",
    "    if isinstance(input_data, pd.DataFrame):\n",
    "        # 如果有非数值型特征，进行独热编码\n",
    "        if not all([pd.api.types.is_numeric_dtype(input_data[col]) for col in input_data.columns]):\n",
    "            input_data = pd.get_dummies(input_data)\n",
    "        \n",
    "        # 补齐缺失的列，确保与训练数据一致\n",
    "        missing_cols = set(X_train.columns) - set(input_data.columns)\n",
    "        for col in missing_cols:\n",
    "            input_data[col] = 0\n",
    "        \n",
    "        # 确保列顺序一致\n",
    "        input_data = input_data[X_train.columns]\n",
    "        \n",
    "        # 进行预测\n",
    "        predictions = clf.predict(input_data)\n",
    "        predicted_labels = le.inverse_transform(predictions)\n",
    "        return predicted_labels\n",
    "    else:\n",
    "        return \"输入数据必须为 DataFrame 格式\"\n",
    "\n",
    "# 加载预测数据并调用预测函数\n",
    "data_predict = pd.read_excel(\"Cardio_10.xlsx\")\n",
    "predicted_model = predict_model(data_predict)\n",
    "\n",
    "# 显示预测结果\n",
    "predicted_results = pd.DataFrame(predicted_model, columns=[\"Predicted Model\"])\n",
    "display(predicted_results)\n",
    "predicted_results=predicted_results.to_string(index=False)\n",
    "print(predicted_results)"
   ]
  },
  {
   "cell_type": "code",
   "execution_count": 15,
   "metadata": {
    "ExecuteTime": {
     "end_time": "2024-12-01T15:07:37.464275Z",
     "start_time": "2024-12-01T15:07:37.311875Z"
    }
   },
   "outputs": [
    {
     "ename": "InvalidParameterError",
     "evalue": "The 'class_names' parameter of plot_tree must be an instance of 'list' or None. Got array(['ModelA', 'ModelB', 'ModelC'], dtype=object) instead.",
     "output_type": "error",
     "traceback": [
      "\u001b[0;31m---------------------------------------------------------------------------\u001b[0m",
      "\u001b[0;31mInvalidParameterError\u001b[0m                     Traceback (most recent call last)",
      "Cell \u001b[0;32mIn[15], line 27\u001b[0m\n\u001b[1;32m     24\u001b[0m     plt\u001b[38;5;241m.\u001b[39mshow()\n\u001b[1;32m     26\u001b[0m \u001b[38;5;66;03m# Drawing decision tree\u001b[39;00m\n\u001b[0;32m---> 27\u001b[0m plot_decision_tree(clf, X_train\u001b[38;5;241m.\u001b[39mcolumns\u001b[38;5;241m.\u001b[39mtolist(), le\u001b[38;5;241m.\u001b[39mclasses_)\n\u001b[1;32m     29\u001b[0m \u001b[38;5;66;03m# Generate feature summary maps (according to manual sorting rules)\u001b[39;00m\n\u001b[1;32m     30\u001b[0m \u001b[38;5;28;01mimport\u001b[39;00m \u001b[38;5;21;01mpandas\u001b[39;00m \u001b[38;5;28;01mas\u001b[39;00m \u001b[38;5;21;01mpd\u001b[39;00m\n",
      "Cell \u001b[0;32mIn[15], line 23\u001b[0m, in \u001b[0;36mplot_decision_tree\u001b[0;34m(clf, feature_names, class_names)\u001b[0m\n\u001b[1;32m     21\u001b[0m \u001b[38;5;28;01mdef\u001b[39;00m \u001b[38;5;21mplot_decision_tree\u001b[39m(clf, feature_names, class_names):\n\u001b[1;32m     22\u001b[0m     plt\u001b[38;5;241m.\u001b[39mfigure(figsize\u001b[38;5;241m=\u001b[39m(\u001b[38;5;241m12\u001b[39m, \u001b[38;5;241m8\u001b[39m))\n\u001b[0;32m---> 23\u001b[0m     plot_tree(clf, feature_names\u001b[38;5;241m=\u001b[39mfeature_names, class_names\u001b[38;5;241m=\u001b[39mclass_names, filled\u001b[38;5;241m=\u001b[39m\u001b[38;5;28;01mTrue\u001b[39;00m, rounded\u001b[38;5;241m=\u001b[39m\u001b[38;5;28;01mTrue\u001b[39;00m)\n\u001b[1;32m     24\u001b[0m     plt\u001b[38;5;241m.\u001b[39mshow()\n",
      "File \u001b[0;32m~/anaconda3/lib/python3.11/site-packages/sklearn/utils/_param_validation.py:201\u001b[0m, in \u001b[0;36mvalidate_params.<locals>.decorator.<locals>.wrapper\u001b[0;34m(*args, **kwargs)\u001b[0m\n\u001b[1;32m    198\u001b[0m to_ignore \u001b[38;5;241m+\u001b[39m\u001b[38;5;241m=\u001b[39m [\u001b[38;5;124m\"\u001b[39m\u001b[38;5;124mself\u001b[39m\u001b[38;5;124m\"\u001b[39m, \u001b[38;5;124m\"\u001b[39m\u001b[38;5;124mcls\u001b[39m\u001b[38;5;124m\"\u001b[39m]\n\u001b[1;32m    199\u001b[0m params \u001b[38;5;241m=\u001b[39m {k: v \u001b[38;5;28;01mfor\u001b[39;00m k, v \u001b[38;5;129;01min\u001b[39;00m params\u001b[38;5;241m.\u001b[39marguments\u001b[38;5;241m.\u001b[39mitems() \u001b[38;5;28;01mif\u001b[39;00m k \u001b[38;5;129;01mnot\u001b[39;00m \u001b[38;5;129;01min\u001b[39;00m to_ignore}\n\u001b[0;32m--> 201\u001b[0m validate_parameter_constraints(\n\u001b[1;32m    202\u001b[0m     parameter_constraints, params, caller_name\u001b[38;5;241m=\u001b[39mfunc\u001b[38;5;241m.\u001b[39m\u001b[38;5;18m__qualname__\u001b[39m\n\u001b[1;32m    203\u001b[0m )\n\u001b[1;32m    205\u001b[0m \u001b[38;5;28;01mtry\u001b[39;00m:\n\u001b[1;32m    206\u001b[0m     \u001b[38;5;28;01mwith\u001b[39;00m config_context(\n\u001b[1;32m    207\u001b[0m         skip_parameter_validation\u001b[38;5;241m=\u001b[39m(\n\u001b[1;32m    208\u001b[0m             prefer_skip_nested_validation \u001b[38;5;129;01mor\u001b[39;00m global_skip_validation\n\u001b[1;32m    209\u001b[0m         )\n\u001b[1;32m    210\u001b[0m     ):\n",
      "File \u001b[0;32m~/anaconda3/lib/python3.11/site-packages/sklearn/utils/_param_validation.py:95\u001b[0m, in \u001b[0;36mvalidate_parameter_constraints\u001b[0;34m(parameter_constraints, params, caller_name)\u001b[0m\n\u001b[1;32m     89\u001b[0m \u001b[38;5;28;01melse\u001b[39;00m:\n\u001b[1;32m     90\u001b[0m     constraints_str \u001b[38;5;241m=\u001b[39m (\n\u001b[1;32m     91\u001b[0m         \u001b[38;5;124mf\u001b[39m\u001b[38;5;124m\"\u001b[39m\u001b[38;5;132;01m{\u001b[39;00m\u001b[38;5;124m'\u001b[39m\u001b[38;5;124m, \u001b[39m\u001b[38;5;124m'\u001b[39m\u001b[38;5;241m.\u001b[39mjoin([\u001b[38;5;28mstr\u001b[39m(c)\u001b[38;5;250m \u001b[39m\u001b[38;5;28;01mfor\u001b[39;00m\u001b[38;5;250m \u001b[39mc\u001b[38;5;250m \u001b[39m\u001b[38;5;129;01min\u001b[39;00m\u001b[38;5;250m \u001b[39mconstraints[:\u001b[38;5;241m-\u001b[39m\u001b[38;5;241m1\u001b[39m]])\u001b[38;5;132;01m}\u001b[39;00m\u001b[38;5;124m or\u001b[39m\u001b[38;5;124m\"\u001b[39m\n\u001b[1;32m     92\u001b[0m         \u001b[38;5;124mf\u001b[39m\u001b[38;5;124m\"\u001b[39m\u001b[38;5;124m \u001b[39m\u001b[38;5;132;01m{\u001b[39;00mconstraints[\u001b[38;5;241m-\u001b[39m\u001b[38;5;241m1\u001b[39m]\u001b[38;5;132;01m}\u001b[39;00m\u001b[38;5;124m\"\u001b[39m\n\u001b[1;32m     93\u001b[0m     )\n\u001b[0;32m---> 95\u001b[0m \u001b[38;5;28;01mraise\u001b[39;00m InvalidParameterError(\n\u001b[1;32m     96\u001b[0m     \u001b[38;5;124mf\u001b[39m\u001b[38;5;124m\"\u001b[39m\u001b[38;5;124mThe \u001b[39m\u001b[38;5;132;01m{\u001b[39;00mparam_name\u001b[38;5;132;01m!r}\u001b[39;00m\u001b[38;5;124m parameter of \u001b[39m\u001b[38;5;132;01m{\u001b[39;00mcaller_name\u001b[38;5;132;01m}\u001b[39;00m\u001b[38;5;124m must be\u001b[39m\u001b[38;5;124m\"\u001b[39m\n\u001b[1;32m     97\u001b[0m     \u001b[38;5;124mf\u001b[39m\u001b[38;5;124m\"\u001b[39m\u001b[38;5;124m \u001b[39m\u001b[38;5;132;01m{\u001b[39;00mconstraints_str\u001b[38;5;132;01m}\u001b[39;00m\u001b[38;5;124m. Got \u001b[39m\u001b[38;5;132;01m{\u001b[39;00mparam_val\u001b[38;5;132;01m!r}\u001b[39;00m\u001b[38;5;124m instead.\u001b[39m\u001b[38;5;124m\"\u001b[39m\n\u001b[1;32m     98\u001b[0m )\n",
      "\u001b[0;31mInvalidParameterError\u001b[0m: The 'class_names' parameter of plot_tree must be an instance of 'list' or None. Got array(['ModelA', 'ModelB', 'ModelC'], dtype=object) instead."
     ]
    },
    {
     "data": {
      "text/plain": [
       "<Figure size 1200x800 with 0 Axes>"
      ]
     },
     "metadata": {},
     "output_type": "display_data"
    }
   ],
   "source": [
    "# (optional)11. What conditions do these characteristics need to meet in order to get a customer to buy a model C?\n",
    "\n",
    "### BEGIN SOLUTION\n",
    "# Data preprocessing (assuming 'Product' is the target variable)\n",
    "X_train = data.drop(\"Product\", axis=1)  \n",
    "y_train = data[\"Product\"]  \n",
    "\n",
    "# Check whether the feature is numeric, and if not, perform unique thermal coding\n",
    "if not all([pd.api.types.is_numeric_dtype(X_train[col]) for col in X_train.columns]):\n",
    "    X_train = pd.get_dummies(X_train)\n",
    "\n",
    "# Coded target variable\n",
    "le = LabelEncoder()\n",
    "y_train = le.fit_transform(y_train)  \n",
    "\n",
    "# Create and train decision tree models\n",
    "clf = DecisionTreeClassifier(max_depth=3, random_state=42)\n",
    "clf.fit(X_train, y_train)\n",
    "\n",
    "# Generate decision tree\n",
    "def plot_decision_tree(clf, feature_names, class_names):\n",
    "    plt.figure(figsize=(12, 8))\n",
    "    plot_tree(clf, feature_names=feature_names, class_names=class_names, filled=True, rounded=True)\n",
    "    plt.show()\n",
    "\n",
    "# Drawing decision tree\n",
    "plot_decision_tree(clf, X_train.columns.tolist(), le.classes_)\n",
    "\n",
    "# Generate feature summary maps (according to manual sorting rules)\n",
    "import pandas as pd\n",
    "\n",
    "# Provide rule data\n",
    "rules_data = [\n",
    "    {\"Model\": \"ModelA\", \"Conditions\": \"Income <= 119479.5 AND MaritalStatus_Partnered > 0.5 AND Fitness < 4.5\"},\n",
    "    {\"Model\": \"ModelA\", \"Conditions\": \"Income <= 119479.5 AND MaritalStatus_Partnered <= 0.5 AND Miles > 209.0\"},\n",
    "    {\"Model\": \"ModelA\", \"Conditions\": \"Income > 119479.5\"},\n",
    "    {\"Model\": \"ModelB\", \"Conditions\": \"Income <= 119479.5 AND MaritalStatus_Partnered <= 0.5 AND Miles <= 209.0\"},\n",
    "    {\"Model\": \"ModelB\", \"Conditions\": \"Income <= 119479.5 AND Fitness <= 4.5\"},\n",
    "    {\"Model\": \"ModelC\", \"Conditions\": \"Income <= 119479.5 AND MaritalStatus_Partnered <= 0.5\"}\n",
    "]\n",
    "\n",
    "# Convert to a DataFrame\n",
    "rules_df = pd.DataFrame(rules_data)\n",
    "\n",
    "# Set display options to avoid line wrapping\n",
    "pd.set_option('display.colheader_justify', 'center')  \n",
    "pd.set_option('display.width', 1000)                \n",
    "pd.set_option('display.max_colwidth', None)          \n",
    "\n",
    "# Displays rule diagrams and tables\n",
    "display(rules_df)\n",
    "feature_summary=rules_df.to_string(index=False)\n",
    "a11 = feature_summary\n",
    "print(feature_summary)\n",
    "### END SOLUTION"
   ]
  },
  {
   "cell_type": "code",
   "execution_count": 6,
   "metadata": {
    "ExecuteTime": {
     "end_time": "2024-12-01T15:07:33.620277Z",
     "start_time": "2024-12-01T15:07:33.594440Z"
    }
   },
   "outputs": [
    {
     "ename": "NameError",
     "evalue": "name 'X_train' is not defined",
     "output_type": "error",
     "traceback": [
      "\u001b[0;31m---------------------------------------------------------------------------\u001b[0m",
      "\u001b[0;31mNameError\u001b[0m                                 Traceback (most recent call last)",
      "Cell \u001b[0;32mIn[6], line 28\u001b[0m\n\u001b[1;32m     26\u001b[0m \u001b[38;5;66;03m# Load the prediction data and call the prediction function\u001b[39;00m\n\u001b[1;32m     27\u001b[0m data_predict \u001b[38;5;241m=\u001b[39m pd\u001b[38;5;241m.\u001b[39mread_excel(\u001b[38;5;124m\"\u001b[39m\u001b[38;5;124mCardio_10.xlsx\u001b[39m\u001b[38;5;124m\"\u001b[39m)\n\u001b[0;32m---> 28\u001b[0m predicted_model \u001b[38;5;241m=\u001b[39m predict_model(data_predict)\n\u001b[1;32m     30\u001b[0m \u001b[38;5;66;03m# Show forecast results\u001b[39;00m\n\u001b[1;32m     31\u001b[0m predicted_results \u001b[38;5;241m=\u001b[39m pd\u001b[38;5;241m.\u001b[39mDataFrame(predicted_model, columns\u001b[38;5;241m=\u001b[39m[\u001b[38;5;124m\"\u001b[39m\u001b[38;5;124mPredicted Model\u001b[39m\u001b[38;5;124m\"\u001b[39m])\n",
      "Cell \u001b[0;32mIn[6], line 12\u001b[0m, in \u001b[0;36mpredict_model\u001b[0;34m(input_data)\u001b[0m\n\u001b[1;32m      9\u001b[0m     input_data \u001b[38;5;241m=\u001b[39m pd\u001b[38;5;241m.\u001b[39mget_dummies(input_data)\n\u001b[1;32m     11\u001b[0m \u001b[38;5;66;03m# Fill in missing columns to ensure consistency with training data\u001b[39;00m\n\u001b[0;32m---> 12\u001b[0m missing_cols \u001b[38;5;241m=\u001b[39m \u001b[38;5;28mset\u001b[39m(X_train\u001b[38;5;241m.\u001b[39mcolumns) \u001b[38;5;241m-\u001b[39m \u001b[38;5;28mset\u001b[39m(input_data\u001b[38;5;241m.\u001b[39mcolumns)\n\u001b[1;32m     13\u001b[0m \u001b[38;5;28;01mfor\u001b[39;00m col \u001b[38;5;129;01min\u001b[39;00m missing_cols:\n\u001b[1;32m     14\u001b[0m     input_data[col] \u001b[38;5;241m=\u001b[39m \u001b[38;5;241m0\u001b[39m\n",
      "\u001b[0;31mNameError\u001b[0m: name 'X_train' is not defined"
     ]
    }
   ],
   "source": [
    "# (optional)12. Based on the rules you have summarized, generate a function that predicts the type of product customers will buy.\n",
    "\n",
    "### BEGIN SOLUTION\n",
    "# Prediction model function\n",
    "def predict_model(input_data):\n",
    "    # Check whether the input data is a DataFrame\n",
    "    if isinstance(input_data, pd.DataFrame):\n",
    "        if not all([pd.api.types.is_numeric_dtype(input_data[col]) for col in input_data.columns]):\n",
    "            input_data = pd.get_dummies(input_data)\n",
    "        \n",
    "        # Fill in missing columns to ensure consistency with training data\n",
    "        missing_cols = set(X_train.columns) - set(input_data.columns)\n",
    "        for col in missing_cols:\n",
    "            input_data[col] = 0\n",
    "        \n",
    "        # Make sure the columns are in the same order\n",
    "        input_data = input_data[X_train.columns]\n",
    "        \n",
    "        # Make a prediction\n",
    "        predictions = clf.predict(input_data)\n",
    "        predicted_labels = le.inverse_transform(predictions)\n",
    "        return predicted_labels\n",
    "    else:\n",
    "        return \"The input data must be in DataFrame format\"\n",
    "\n",
    "# Load the prediction data and call the prediction function\n",
    "data_predict = pd.read_excel(\"Cardio_10.xlsx\")\n",
    "predicted_model = predict_model(data_predict)\n",
    "\n",
    "# Show forecast results\n",
    "predicted_results = pd.DataFrame(predicted_model, columns=[\"Predicted Model\"])\n",
    "display(predicted_results)\n",
    "predicted_results=predicted_results.to_string(index=False)\n",
    "a12 = predicted_results\n",
    "print(predicted_results)\n",
    "### END SOLUTION"
   ]
  },
  {
   "cell_type": "code",
   "execution_count": 15,
   "metadata": {
    "ExecuteTime": {
     "end_time": "2024-12-01T15:08:07.365822Z",
     "start_time": "2024-12-01T15:08:07.363138Z"
    },
    "nbgrader": {
     "grade": false,
     "grade_id": "cell-3fadcd5e40a4c967",
     "locked": false,
     "schema_version": 3,
     "solution": true,
     "task": false
    }
   },
   "outputs": [
    {
     "ename": "NameError",
     "evalue": "name 'a11' is not defined",
     "output_type": "error",
     "traceback": [
      "\u001b[0;31m---------------------------------------------------------------------------\u001b[0m",
      "\u001b[0;31mNameError\u001b[0m                                 Traceback (most recent call last)",
      "Cell \u001b[0;32mIn[15], line 17\u001b[0m\n\u001b[1;32m      1\u001b[0m \u001b[38;5;66;03m# Write all your answer in a dictionary named answers. \u001b[39;00m\n\u001b[1;32m      2\u001b[0m \u001b[38;5;66;03m# Important: Your dictionary MUST be named 'answers'.\u001b[39;00m\n\u001b[1;32m      3\u001b[0m \u001b[38;5;66;03m# This dictionary has keys `\"1\", \"2\", \"3\", ... \"10\"` and values `a1, a2, a3, ... a10` respectively. \u001b[39;00m\n\u001b[1;32m      4\u001b[0m \u001b[38;5;66;03m# (e.g., a1 is the variable storing the answer to question 1)\u001b[39;00m\n\u001b[1;32m      5\u001b[0m \n\u001b[1;32m      6\u001b[0m \u001b[38;5;66;03m### BEGIN SOLUTION\u001b[39;00m\n\u001b[1;32m      7\u001b[0m answers \u001b[38;5;241m=\u001b[39m {\u001b[38;5;124m\"\u001b[39m\u001b[38;5;124m1\u001b[39m\u001b[38;5;124m\"\u001b[39m: a1, \n\u001b[1;32m      8\u001b[0m            \u001b[38;5;124m\"\u001b[39m\u001b[38;5;124m2\u001b[39m\u001b[38;5;124m\"\u001b[39m: a2,\n\u001b[1;32m      9\u001b[0m            \u001b[38;5;124m\"\u001b[39m\u001b[38;5;124m3\u001b[39m\u001b[38;5;124m\"\u001b[39m: a3,\n\u001b[1;32m     10\u001b[0m            \u001b[38;5;124m\"\u001b[39m\u001b[38;5;124m4\u001b[39m\u001b[38;5;124m\"\u001b[39m: a4,\n\u001b[1;32m     11\u001b[0m            \u001b[38;5;124m\"\u001b[39m\u001b[38;5;124m5\u001b[39m\u001b[38;5;124m\"\u001b[39m: a5,\n\u001b[1;32m     12\u001b[0m            \u001b[38;5;124m\"\u001b[39m\u001b[38;5;124m6\u001b[39m\u001b[38;5;124m\"\u001b[39m: a6,\n\u001b[1;32m     13\u001b[0m            \u001b[38;5;124m\"\u001b[39m\u001b[38;5;124m7\u001b[39m\u001b[38;5;124m\"\u001b[39m: a7,\n\u001b[1;32m     14\u001b[0m            \u001b[38;5;124m\"\u001b[39m\u001b[38;5;124m8\u001b[39m\u001b[38;5;124m\"\u001b[39m: a8,\n\u001b[1;32m     15\u001b[0m            \u001b[38;5;124m\"\u001b[39m\u001b[38;5;124m9\u001b[39m\u001b[38;5;124m\"\u001b[39m: a9,\n\u001b[1;32m     16\u001b[0m            \u001b[38;5;124m\"\u001b[39m\u001b[38;5;124m10\u001b[39m\u001b[38;5;124m\"\u001b[39m:a10,\n\u001b[0;32m---> 17\u001b[0m            \u001b[38;5;124m\"\u001b[39m\u001b[38;5;124m11\u001b[39m\u001b[38;5;124m\"\u001b[39m: a11,\n\u001b[1;32m     18\u001b[0m            \u001b[38;5;124m\"\u001b[39m\u001b[38;5;124m12\u001b[39m\u001b[38;5;124m\"\u001b[39m: a12,\n\u001b[1;32m     19\u001b[0m            }\n",
      "\u001b[0;31mNameError\u001b[0m: name 'a11' is not defined"
     ]
    }
   ],
   "source": [
    "# Write all your answer in a dictionary named answers. \n",
    "# Important: Your dictionary MUST be named 'answers'.\n",
    "# This dictionary has keys `\"1\", \"2\", \"3\", ... \"10\"` and values `a1, a2, a3, ... a10` respectively. \n",
    "# (e.g., a1 is the variable storing the answer to question 1)\n",
    "\n",
    "### BEGIN SOLUTION\n",
    "answers = {\"1\": a1, \n",
    "           \"2\": a2,\n",
    "           \"3\": a3,\n",
    "           \"4\": a4,\n",
    "           \"5\": a5,\n",
    "           \"6\": a6,\n",
    "           \"7\": a7,\n",
    "           \"8\": a8,\n",
    "           \"9\": a9,\n",
    "           \"10\":a10,\n",
    "           \"11\": a11,\n",
    "           \"12\": a12,\n",
    "           }\n",
    "### END SOLUTION"
   ]
  },
  {
   "cell_type": "code",
   "execution_count": 16,
   "metadata": {
    "ExecuteTime": {
     "end_time": "2024-12-01T14:17:24.178477Z",
     "start_time": "2024-12-01T14:17:24.176407Z"
    },
    "nbgrader": {
     "grade": true,
     "grade_id": "cell-922cf439b3c0695e",
     "locked": true,
     "points": 0,
     "schema_version": 3,
     "solution": false,
     "task": false
    }
   },
   "outputs": [
    {
     "ename": "NotImplementedError",
     "evalue": "",
     "output_type": "error",
     "traceback": [
      "\u001b[0;31m---------------------------------------------------------------------------\u001b[0m",
      "\u001b[0;31mNameError\u001b[0m                                 Traceback (most recent call last)",
      "Cell \u001b[0;32mIn[16], line 3\u001b[0m\n\u001b[1;32m      2\u001b[0m \u001b[38;5;28;01mtry\u001b[39;00m:\n\u001b[0;32m----> 3\u001b[0m     answers[\u001b[38;5;124m\"\u001b[39m\u001b[38;5;124m1\u001b[39m\u001b[38;5;124m\"\u001b[39m]\n\u001b[1;32m      4\u001b[0m \u001b[38;5;28;01mexcept\u001b[39;00m:\n",
      "\u001b[0;31mNameError\u001b[0m: name 'answers' is not defined",
      "\nDuring handling of the above exception, another exception occurred:\n",
      "\u001b[0;31mNotImplementedError\u001b[0m                       Traceback (most recent call last)",
      "Cell \u001b[0;32mIn[16], line 5\u001b[0m\n\u001b[1;32m      3\u001b[0m     answers[\u001b[38;5;124m\"\u001b[39m\u001b[38;5;124m1\u001b[39m\u001b[38;5;124m\"\u001b[39m]\n\u001b[1;32m      4\u001b[0m \u001b[38;5;28;01mexcept\u001b[39;00m:\n\u001b[0;32m----> 5\u001b[0m     \u001b[38;5;28;01mraise\u001b[39;00m \u001b[38;5;167;01mNotImplementedError\u001b[39;00m()\n",
      "\u001b[0;31mNotImplementedError\u001b[0m: "
     ]
    }
   ],
   "source": [
    "# This code should run without errors\n",
    "try:\n",
    "    answers[\"1\"]\n",
    "except:\n",
    "    raise NotImplementedError()"
   ]
  },
  {
   "cell_type": "code",
   "execution_count": 17,
   "metadata": {
    "ExecuteTime": {
     "end_time": "2024-12-01T14:17:27.209843Z",
     "start_time": "2024-12-01T14:17:27.207952Z"
    },
    "nbgrader": {
     "grade": true,
     "grade_id": "cell-ec02594ec1b88dfe",
     "locked": true,
     "points": 3,
     "schema_version": 3,
     "solution": false,
     "task": false
    }
   },
   "outputs": [
    {
     "ename": "NameError",
     "evalue": "name 'answers' is not defined",
     "output_type": "error",
     "traceback": [
      "\u001b[0;31m---------------------------------------------------------------------------\u001b[0m",
      "\u001b[0;31mNameError\u001b[0m                                 Traceback (most recent call last)",
      "Cell \u001b[0;32mIn[17], line 2\u001b[0m\n\u001b[1;32m      1\u001b[0m \u001b[38;5;66;03m### BEGIN HIDDEN TESTS\u001b[39;00m\n\u001b[0;32m----> 2\u001b[0m \u001b[38;5;28;01massert\u001b[39;00m answers[\u001b[38;5;124m\"\u001b[39m\u001b[38;5;124m1\u001b[39m\u001b[38;5;124m\"\u001b[39m] \u001b[38;5;241m==\u001b[39m \u001b[38;5;241m75159.33\u001b[39m\n",
      "\u001b[0;31mNameError\u001b[0m: name 'answers' is not defined"
     ]
    }
   ],
   "source": [
    "### BEGIN HIDDEN TESTS\n",
    "assert answers[\"1\"] == 75159.33\n",
    "### END HIDDEN TESTS"
   ]
  },
  {
   "cell_type": "code",
   "execution_count": 18,
   "metadata": {
    "ExecuteTime": {
     "end_time": "2024-12-01T14:21:25.010162Z",
     "start_time": "2024-12-01T14:21:25.008167Z"
    },
    "nbgrader": {
     "grade": true,
     "grade_id": "cell-4468c011de369a20",
     "locked": true,
     "points": 4,
     "schema_version": 3,
     "solution": false,
     "task": false
    }
   },
   "outputs": [
    {
     "ename": "NameError",
     "evalue": "name 'answers' is not defined",
     "output_type": "error",
     "traceback": [
      "\u001b[0;31m---------------------------------------------------------------------------\u001b[0m",
      "\u001b[0;31mNameError\u001b[0m                                 Traceback (most recent call last)",
      "Cell \u001b[0;32mIn[18], line 2\u001b[0m\n\u001b[1;32m      1\u001b[0m \u001b[38;5;66;03m### BEGIN HIDDEN TESTS\u001b[39;00m\n\u001b[0;32m----> 2\u001b[0m \u001b[38;5;28;01massert\u001b[39;00m \u001b[38;5;28misinstance\u001b[39m(answers[\u001b[38;5;124m\"\u001b[39m\u001b[38;5;124m2\u001b[39m\u001b[38;5;124m\"\u001b[39m], pd\u001b[38;5;241m.\u001b[39mSeries)\n",
      "\u001b[0;31mNameError\u001b[0m: name 'answers' is not defined"
     ]
    }
   ],
   "source": [
    "### BEGIN HIDDEN TESTS\n",
    "assert isinstance(answers[\"2\"], pd.Series) \n",
    "### END HIDDEN TESTS"
   ]
  },
  {
   "cell_type": "code",
   "execution_count": 19,
   "metadata": {
    "ExecuteTime": {
     "end_time": "2024-12-01T14:23:02.525293Z",
     "start_time": "2024-12-01T14:23:02.522819Z"
    },
    "nbgrader": {
     "grade": true,
     "grade_id": "cell-f5573ce9714dc71d",
     "locked": true,
     "points": 4,
     "schema_version": 3,
     "solution": false,
     "task": false
    }
   },
   "outputs": [
    {
     "ename": "NameError",
     "evalue": "name 'answers' is not defined",
     "output_type": "error",
     "traceback": [
      "\u001b[0;31m---------------------------------------------------------------------------\u001b[0m",
      "\u001b[0;31mNameError\u001b[0m                                 Traceback (most recent call last)",
      "Cell \u001b[0;32mIn[19], line 2\u001b[0m\n\u001b[1;32m      1\u001b[0m \u001b[38;5;66;03m### BEGIN HIDDEN TESTS\u001b[39;00m\n\u001b[0;32m----> 2\u001b[0m \u001b[38;5;28;01massert\u001b[39;00m answers[\u001b[38;5;124m\"\u001b[39m\u001b[38;5;124m3\u001b[39m\u001b[38;5;124m\"\u001b[39m] \u001b[38;5;241m==\u001b[39m \u001b[38;5;241m2.0517855932341016\u001b[39m\n",
      "\u001b[0;31mNameError\u001b[0m: name 'answers' is not defined"
     ]
    }
   ],
   "source": [
    "### BEGIN HIDDEN TESTS\n",
    "assert answers[\"3\"] == 2.0517855932341016\n",
    "### END HIDDEN TESTS"
   ]
  },
  {
   "cell_type": "code",
   "execution_count": 20,
   "metadata": {
    "ExecuteTime": {
     "end_time": "2024-12-01T14:23:03.640117Z",
     "start_time": "2024-12-01T14:23:03.637831Z"
    },
    "nbgrader": {
     "grade": true,
     "grade_id": "cell-20f63b74758c8ab4",
     "locked": true,
     "points": 4,
     "schema_version": 3,
     "solution": false,
     "task": false
    }
   },
   "outputs": [
    {
     "ename": "NameError",
     "evalue": "name 'answers' is not defined",
     "output_type": "error",
     "traceback": [
      "\u001b[0;31m---------------------------------------------------------------------------\u001b[0m",
      "\u001b[0;31mNameError\u001b[0m                                 Traceback (most recent call last)",
      "Cell \u001b[0;32mIn[20], line 2\u001b[0m\n\u001b[1;32m      1\u001b[0m \u001b[38;5;66;03m### BEGIN HIDDEN TESTS\u001b[39;00m\n\u001b[0;32m----> 2\u001b[0m \u001b[38;5;28;01massert\u001b[39;00m \u001b[38;5;28misinstance\u001b[39m(answers[\u001b[38;5;124m\"\u001b[39m\u001b[38;5;124m4\u001b[39m\u001b[38;5;124m\"\u001b[39m], pd\u001b[38;5;241m.\u001b[39mSeries)\n",
      "\u001b[0;31mNameError\u001b[0m: name 'answers' is not defined"
     ]
    }
   ],
   "source": [
    "### BEGIN HIDDEN TESTS\n",
    "assert isinstance(answers[\"4\"], pd.Series)\n",
    "### END HIDDEN TESTS"
   ]
  },
  {
   "cell_type": "code",
   "execution_count": 21,
   "metadata": {
    "ExecuteTime": {
     "end_time": "2024-12-01T14:23:05.697384Z",
     "start_time": "2024-12-01T14:23:05.695141Z"
    },
    "nbgrader": {
     "grade": true,
     "grade_id": "cell-7a7d342bad8a81c9",
     "locked": true,
     "points": 4,
     "schema_version": 3,
     "solution": false,
     "task": false
    }
   },
   "outputs": [
    {
     "ename": "NameError",
     "evalue": "name 'answers' is not defined",
     "output_type": "error",
     "traceback": [
      "\u001b[0;31m---------------------------------------------------------------------------\u001b[0m",
      "\u001b[0;31mNameError\u001b[0m                                 Traceback (most recent call last)",
      "Cell \u001b[0;32mIn[21], line 2\u001b[0m\n\u001b[1;32m      1\u001b[0m \u001b[38;5;66;03m### BEGIN HIDDEN TESTS\u001b[39;00m\n\u001b[0;32m----> 2\u001b[0m \u001b[38;5;28;01massert\u001b[39;00m answers[\u001b[38;5;124m\"\u001b[39m\u001b[38;5;124m5\u001b[39m\u001b[38;5;124m\"\u001b[39m] \u001b[38;5;241m==\u001b[39m \u001b[38;5;241m247\u001b[39m\n",
      "\u001b[0;31mNameError\u001b[0m: name 'answers' is not defined"
     ]
    }
   ],
   "source": [
    "### BEGIN HIDDEN TESTS\n",
    "assert answers[\"5\"] == 247\n",
    "### END HIDDEN TESTS"
   ]
  },
  {
   "cell_type": "code",
   "execution_count": 22,
   "metadata": {
    "ExecuteTime": {
     "end_time": "2024-11-30T01:30:15.180120Z",
     "start_time": "2024-11-30T01:30:15.177995Z"
    },
    "nbgrader": {
     "grade": true,
     "grade_id": "cell-b91c45975649d88f",
     "locked": true,
     "points": 4,
     "schema_version": 3,
     "solution": false,
     "task": false
    }
   },
   "outputs": [
    {
     "ename": "NameError",
     "evalue": "name 'answers' is not defined",
     "output_type": "error",
     "traceback": [
      "\u001b[0;31m---------------------------------------------------------------------------\u001b[0m",
      "\u001b[0;31mNameError\u001b[0m                                 Traceback (most recent call last)",
      "Cell \u001b[0;32mIn[22], line 2\u001b[0m\n\u001b[1;32m      1\u001b[0m \u001b[38;5;66;03m### BEGIN HIDDEN TESTS\u001b[39;00m\n\u001b[0;32m----> 2\u001b[0m \u001b[38;5;28;01massert\u001b[39;00m answers[\u001b[38;5;124m\"\u001b[39m\u001b[38;5;124m6\u001b[39m\u001b[38;5;124m\"\u001b[39m] \u001b[38;5;241m==\u001b[39m \u001b[38;5;241m77\u001b[39m\n",
      "\u001b[0;31mNameError\u001b[0m: name 'answers' is not defined"
     ]
    }
   ],
   "source": [
    "### BEGIN HIDDEN TESTS\n",
    "assert answers[\"6\"] == 77\n",
    "### END HIDDEN TESTS"
   ]
  },
  {
   "cell_type": "code",
   "execution_count": 23,
   "metadata": {
    "ExecuteTime": {
     "end_time": "2024-11-30T01:30:16.002151Z",
     "start_time": "2024-11-30T01:30:15.999690Z"
    },
    "nbgrader": {
     "grade": true,
     "grade_id": "cell-3260bb54127227be",
     "locked": true,
     "points": 4,
     "schema_version": 3,
     "solution": false,
     "task": false
    }
   },
   "outputs": [
    {
     "ename": "NameError",
     "evalue": "name 'answers' is not defined",
     "output_type": "error",
     "traceback": [
      "\u001b[0;31m---------------------------------------------------------------------------\u001b[0m",
      "\u001b[0;31mNameError\u001b[0m                                 Traceback (most recent call last)",
      "Cell \u001b[0;32mIn[23], line 2\u001b[0m\n\u001b[1;32m      1\u001b[0m \u001b[38;5;66;03m### BEGIN HIDDEN TESTS\u001b[39;00m\n\u001b[0;32m----> 2\u001b[0m \u001b[38;5;28;01massert\u001b[39;00m answers[\u001b[38;5;124m\"\u001b[39m\u001b[38;5;124m7\u001b[39m\u001b[38;5;124m\"\u001b[39m] \u001b[38;5;241m==\u001b[39m \u001b[38;5;241m0.5333333333333333\u001b[39m\n",
      "\u001b[0;31mNameError\u001b[0m: name 'answers' is not defined"
     ]
    }
   ],
   "source": [
    "### BEGIN HIDDEN TESTS\n",
    "assert answers[\"7\"] == 0.5333333333333333\n",
    "### END HIDDEN TESTS"
   ]
  },
  {
   "cell_type": "code",
   "execution_count": 24,
   "metadata": {
    "ExecuteTime": {
     "end_time": "2024-12-01T14:24:30.259889Z",
     "start_time": "2024-12-01T14:24:30.258023Z"
    },
    "nbgrader": {
     "grade": true,
     "grade_id": "cell-92feaf38e7e9cb20",
     "locked": true,
     "points": 4,
     "schema_version": 3,
     "solution": false,
     "task": false
    }
   },
   "outputs": [
    {
     "ename": "NameError",
     "evalue": "name 'answers' is not defined",
     "output_type": "error",
     "traceback": [
      "\u001b[0;31m---------------------------------------------------------------------------\u001b[0m",
      "\u001b[0;31mNameError\u001b[0m                                 Traceback (most recent call last)",
      "Cell \u001b[0;32mIn[24], line 2\u001b[0m\n\u001b[1;32m      1\u001b[0m \u001b[38;5;66;03m### BEGIN HIDDEN TESTS\u001b[39;00m\n\u001b[0;32m----> 2\u001b[0m \u001b[38;5;28;01massert\u001b[39;00m answers[\u001b[38;5;124m\"\u001b[39m\u001b[38;5;124m8\u001b[39m\u001b[38;5;124m\"\u001b[39m] \u001b[38;5;241m==\u001b[39m \u001b[38;5;241m0.295\u001b[39m\n",
      "\u001b[0;31mNameError\u001b[0m: name 'answers' is not defined"
     ]
    }
   ],
   "source": [
    "### BEGIN HIDDEN TESTS\n",
    "assert answers[\"8\"] == 0.295\n",
    "### END HIDDEN TESTS"
   ]
  },
  {
   "cell_type": "code",
   "execution_count": 25,
   "metadata": {
    "ExecuteTime": {
     "end_time": "2024-12-01T14:50:27.383886Z",
     "start_time": "2024-12-01T14:50:27.381475Z"
    },
    "nbgrader": {
     "grade": true,
     "grade_id": "cell-bfd29bcc31b3ff08",
     "locked": true,
     "points": 4,
     "schema_version": 3,
     "solution": false,
     "task": false
    }
   },
   "outputs": [
    {
     "ename": "NameError",
     "evalue": "name 'answers' is not defined",
     "output_type": "error",
     "traceback": [
      "\u001b[0;31m---------------------------------------------------------------------------\u001b[0m",
      "\u001b[0;31mNameError\u001b[0m                                 Traceback (most recent call last)",
      "Cell \u001b[0;32mIn[25], line 2\u001b[0m\n\u001b[1;32m      1\u001b[0m \u001b[38;5;66;03m### BEGIN HIDDEN TESTS\u001b[39;00m\n\u001b[0;32m----> 2\u001b[0m \u001b[38;5;28;01massert\u001b[39;00m answers[\u001b[38;5;124m\"\u001b[39m\u001b[38;5;124m9\u001b[39m\u001b[38;5;124m\"\u001b[39m] \u001b[38;5;241m==\u001b[39m \u001b[38;5;241m52\u001b[39m\n",
      "\u001b[0;31mNameError\u001b[0m: name 'answers' is not defined"
     ]
    }
   ],
   "source": [
    "### BEGIN HIDDEN TESTS\n",
    "assert answers[\"9\"] == 52\n",
    "### END HIDDEN TESTS"
   ]
  },
  {
   "cell_type": "code",
   "execution_count": 26,
   "metadata": {
    "ExecuteTime": {
     "end_time": "2024-12-01T14:50:29.184471Z",
     "start_time": "2024-12-01T14:50:29.182505Z"
    },
    "nbgrader": {
     "grade": true,
     "grade_id": "cell-a6a9afeff501a966",
     "locked": true,
     "points": 5,
     "schema_version": 3,
     "solution": false,
     "task": false
    }
   },
   "outputs": [
    {
     "ename": "NameError",
     "evalue": "name 'answers' is not defined",
     "output_type": "error",
     "traceback": [
      "\u001b[0;31m---------------------------------------------------------------------------\u001b[0m",
      "\u001b[0;31mNameError\u001b[0m                                 Traceback (most recent call last)",
      "Cell \u001b[0;32mIn[26], line 3\u001b[0m\n\u001b[1;32m      1\u001b[0m \u001b[38;5;66;03m### BEGIN HIDDEN TESTS\u001b[39;00m\n\u001b[1;32m      2\u001b[0m expected_bracket \u001b[38;5;241m=\u001b[39m \u001b[38;5;124m'\u001b[39m\u001b[38;5;124m$90,001-$110,000\u001b[39m\u001b[38;5;124m'\u001b[39m\n\u001b[0;32m----> 3\u001b[0m \u001b[38;5;28;01massert\u001b[39;00m answers[\u001b[38;5;124m\"\u001b[39m\u001b[38;5;124m10\u001b[39m\u001b[38;5;124m\"\u001b[39m] \u001b[38;5;241m==\u001b[39m expected_bracket\n",
      "\u001b[0;31mNameError\u001b[0m: name 'answers' is not defined"
     ]
    }
   ],
   "source": [
    "### BEGIN HIDDEN TESTS\n",
    "expected_bracket = '$90,001-$110,000'\n",
    "assert answers[\"10\"] == expected_bracket\n",
    "### END HIDDEN TESTS"
   ]
  },
  {
   "cell_type": "markdown",
   "metadata": {
    "nbgrader": {
     "grade": false,
     "grade_id": "cell-24e7efe773ce1cd0",
     "locked": true,
     "schema_version": 3,
     "solution": false,
     "task": false
    }
   },
   "source": [
    "## Visualization (50 points)\n",
    "\n",
    "You should create plots using the dataset. Your python coding, visualization style, and the appearance of the plots will be manually graded."
   ]
  },
  {
   "cell_type": "code",
   "execution_count": 27,
   "metadata": {
    "ExecuteTime": {
     "end_time": "2024-12-01T13:55:56.813272Z",
     "start_time": "2024-12-01T13:55:56.759500Z"
    },
    "nbgrader": {
     "grade": true,
     "grade_id": "cell-32e5094c97d10c15",
     "locked": false,
     "points": 20,
     "schema_version": 3,
     "solution": true,
     "task": false
    }
   },
   "outputs": [
    {
     "data": {
      "image/png": "[encoded data removed]",
      "text/plain": [
       "<Figure size 800x800 with 1 Axes>"
      ]
     },
     "metadata": {},
     "output_type": "display_data"
    }
   ],
   "source": [
    "# 1. Create a pie chart of users' age distribution. \n",
    "\n",
    "### BEGIN SOLUTION\n",
    "# Define age bins and labels\n",
    "bins = [0, 25, 50, float('inf')]\n",
    "labels = ['0-25', '25-50', '50+']\n",
    "\n",
    "# Create a new column for age categories\n",
    "data['AgeCategory'] = pd.cut(data['Age'], bins=bins, labels=labels, right=False)\n",
    "\n",
    "# Count the number of records in each category\n",
    "age_category_counts = data['AgeCategory'].value_counts()\n",
    "\n",
    "# Plot a pie chart\n",
    "plt.figure(figsize=(8, 8))\n",
    "plt.pie(\n",
    "    age_category_counts,\n",
    "    labels=age_category_counts.index,\n",
    "    autopct='%1.1f%%',\n",
    "    startangle=90,\n",
    "    colors=['#66b3ff', '#99ff99', '#ffcc99']\n",
    ")\n",
    "plt.title('Age Distribution by Category')\n",
    "plt.show()\n",
    "### END SOLUTION"
   ]
  },
  {
   "cell_type": "code",
   "execution_count": 32,
   "metadata": {
    "ExecuteTime": {
     "end_time": "2024-12-01T14:14:54.748774Z",
     "start_time": "2024-12-01T14:14:54.668920Z"
    }
   },
   "outputs": [
    {
     "data": {
      "image/png": "[encoded data removed]",
      "text/plain": [
       "<Figure size 1000x600 with 1 Axes>"
      ]
     },
     "metadata": {},
     "output_type": "display_data"
    }
   ],
   "source": [
    "# 2. Create the distribution of miles.\n",
    "\n",
    "### BEGIN SOLUTION\n",
    "# Plot the frequency histogram of miles\n",
    "plt.figure(figsize=(10, 6))\n",
    "\n",
    "# Definition interval boundary\n",
    "bins = [50, 65, 80, 95, 110, 125, 140, 155, 170, 185,  200, 215, 230, 245, 260, 275, 290, 305]\n",
    "\n",
    "# Plot the histogram and set bins to the specified interval\n",
    "plt.hist(data[\"Miles\"], bins=bins, edgecolor=\"black\", alpha=0.7)\n",
    "\n",
    "# Set the title and label\n",
    "plt.title(\"Distribution of Miles\", fontsize=14)\n",
    "plt.xlabel(\"Miles\", fontsize=12)\n",
    "plt.ylabel(\"Frequency\", fontsize=12)\n",
    "\n",
    "plt.show()\n",
    "### END SOLUTION"
   ]
  },
  {
   "cell_type": "code",
   "execution_count": 34,
   "metadata": {
    "ExecuteTime": {
     "end_time": "2024-12-01T14:28:46.278859Z",
     "start_time": "2024-12-01T14:28:46.126765Z"
    }
   },
   "outputs": [
    {
     "data": {
      "image/png": "[encoded data removed]",
      "text/plain": [
       "<Figure size 1000x800 with 2 Axes>"
      ]
     },
     "metadata": {},
     "output_type": "display_data"
    }
   ],
   "source": [
    "# 3. Draw heat map for all variables.\n",
    "\n",
    "### BEGIN SOLUTION\n",
    "# Select numeric features\n",
    "numeric_columns = data.select_dtypes(include=[\"float64\", \"int64\"]).columns\n",
    "\n",
    "# Calculate the covariance matrix\n",
    "correlation_matrix = data[numeric_columns].corr()\n",
    "\n",
    "# Draw a covariance heat map\n",
    "plt.figure(figsize=(10, 8))\n",
    "sns.heatmap(correlation_matrix, annot=True, cmap=\"coolwarm\", fmt=\".2f\", linewidths=0.5)\n",
    "\n",
    "# Set the title \n",
    "plt.title(\"Correlation Heatmap\", fontsize=16)\n",
    "\n",
    "plt.show()\n",
    "### END SOLUTION"
   ]
  },
  {
   "cell_type": "code",
   "execution_count": null,
   "metadata": {},
   "outputs": [],
   "source": []
  }
 ],
 "metadata": {
  "celltoolbar": "Create Assignment",
  "kernelspec": {
   "display_name": "Python 3 (ipykernel)",
   "language": "python",
   "name": "python3"
  },
  "language_info": {
   "codemirror_mode": {
    "name": "ipython",
    "version": 3
   },
   "file_extension": ".py",
   "mimetype": "text/x-python",
   "name": "python",
   "nbconvert_exporter": "python",
   "pygments_lexer": "ipython3",
   "version": "3.11.4"
  },
  "latex_envs": {
   "LaTeX_envs_menu_present": true,
   "autoclose": false,
   "autocomplete": true,
   "bibliofile": "biblio.bib",
   "cite_by": "apalike",
   "current_citInitial": 1,
   "eqLabelWithNumbers": true,
   "eqNumInitial": 1,
   "hotkeys": {
    "equation": "Ctrl-E",
    "itemize": "Ctrl-I"
   },
   "labels_anchors": false,
   "latex_user_defs": false,
   "report_style_numbering": false,
   "user_envs_cfg": false
  },
  "toc": {
   "base_numbering": 1,
   "nav_menu": {},
   "number_sections": true,
   "sideBar": true,
   "skip_h1_title": true,
   "title_cell": "Table of Contents",
   "title_sidebar": "Contents",
   "toc_cell": false,
   "toc_position": {
    "height": "calc(100% - 180px)",
    "left": "10px",
    "top": "150px",
    "width": "169px"
   },
   "toc_section_display": true,
   "toc_window_display": true
  }
 },
 "nbformat": 4,
 "nbformat_minor": 4
}
